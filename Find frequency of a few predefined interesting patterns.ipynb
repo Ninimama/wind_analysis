{
 "cells": [
  {
   "cell_type": "code",
   "execution_count": 1,
   "metadata": {},
   "outputs": [],
   "source": [
    "from utils import *\n",
    "from matplotlib import rcParams\n",
    "rcParams['font.family'] = 'sans-serif'\n",
    "rcParams['font.sans-serif'] = ['Segoe UI Symbol','simHei','Arial','sans-serif']"
   ]
  },
  {
   "cell_type": "markdown",
   "metadata": {},
   "source": [
    "## Load Data"
   ]
  },
  {
   "cell_type": "code",
   "execution_count": 2,
   "metadata": {},
   "outputs": [
    {
     "name": "stdout",
     "output_type": "stream",
     "text": [
      "year:2016\t(105408, 20)\n",
      "year:2017\t(105120, 20)\n",
      "resampled to  (17544, 20)\n"
     ]
    }
   ],
   "source": [
    "years = [2016,2017]\n",
    "resampling_period = '60T'\n",
    "\n",
    "original_data = load_resample_data(years, resampling_period)\n",
    "windfarms_names = original_data.columns.tolist()    "
   ]
  },
  {
   "cell_type": "markdown",
   "metadata": {},
   "source": [
    "### Normalize data = Capacity Factor (optional) "
   ]
  },
  {
   "cell_type": "code",
   "execution_count": 3,
   "metadata": {},
   "outputs": [],
   "source": [
    "windfarms = pd.read_excel('NRGstreamData/WindFarms.xlsx').sort_values(by='Asset ID').reset_index(drop = True)\n",
    "# windfarms.head(4)\n",
    "normalized_data = original_data / windfarms['Capacity'].values\n",
    "# normalized_data.head(4)"
   ]
  },
  {
   "cell_type": "markdown",
   "metadata": {},
   "source": [
    "## Clustering (optional)"
   ]
  },
  {
   "cell_type": "code",
   "execution_count": 4,
   "metadata": {},
   "outputs": [],
   "source": [
    "from sklearn.cluster import KMeans\n",
    "n_clusters = 4\n",
    "kmin = KMeans(n_clusters)\n",
    "X = np.transpose(normalized_data.iloc[:,:])\n",
    "Y = kmin.fit(X)\n",
    "clusters = kmin.labels_\n",
    "clusters\n",
    "\n",
    "# clusters = np.array([1, 1, 2, 1, 4, 4, 0, 0, 0, 1, 3, 0, 0, 0, 3, 0, 1, 2, 3, 2])\n",
    "\n",
    "a = {}\n",
    "for c in range(n_clusters):\n",
    "    ind = clusters == c # OR: ind = np.where(clusters==c)[0] --> this generate an np.array of only indices\n",
    "    # a[c] = (normalized_data.iloc[:,ind]).mean(axis=1) : old version\n",
    "    a[c] = (original_data.iloc[:,ind]).sum(axis=1) / (windfarms['Capacity'].iloc[ind].sum())\n",
    "    \n",
    "\n",
    "clustered_data = pd.DataFrame.from_dict(a)\n",
    "clustered_data.columns = ['Cluster {:d}'.format(d) for d in range(1,n_clusters+1)] \n",
    "\n",
    "sum_capacities_each_row = [sum(~(original_data.iloc[i,:].isnull().values) * \n",
    "                                 windfarms['Capacity'].values) for i in range(0,original_data.shape[0])]\n",
    "clustered_data['Total'] = original_data.sum(axis=1)/ sum_capacities_each_row\n",
    "# clustered_data['Total'] = clustered_data.mean(axis=1)\n",
    "# clustered_data.head(4)"
   ]
  },
  {
   "cell_type": "code",
   "execution_count": 5,
   "metadata": {},
   "outputs": [
    {
     "data": {
      "text/plain": [
       "array([1, 1, 0, 1, 3, 3, 1, 1, 1, 1, 2, 1, 1, 1, 2, 1, 1, 0, 2, 0])"
      ]
     },
     "execution_count": 5,
     "metadata": {},
     "output_type": "execute_result"
    }
   ],
   "source": [
    "clusters"
   ]
  },
  {
   "cell_type": "markdown",
   "metadata": {},
   "source": [
    "### Decide what data to use for further analysis (Original data | Normalized data | clustered_data)"
   ]
  },
  {
   "cell_type": "code",
   "execution_count": null,
   "metadata": {},
   "outputs": [],
   "source": [
    "# #### Be catious !\n",
    "data = clustered_data  # Normalized_data  | Original_data\n",
    "data.head()"
   ]
  },
  {
   "cell_type": "markdown",
   "metadata": {},
   "source": [
    "### Convert original numerical data into categorical representation"
   ]
  },
  {
   "cell_type": "code",
   "execution_count": null,
   "metadata": {},
   "outputs": [],
   "source": [
    "## Set initial variables\n",
    "alphabet_size=5\n",
    "alphabets = list(string.ascii_uppercase[:alphabet_size]) # ['A', 'B', 'C', 'D', 'E' , ...]\n",
    "alphabets = [ \"○\" , '◔', '◑', '◕', \"●\"] #  \"○\" , '◔', '◑', '◕', \"●\"  OR '▁ ','▃ ', '▄ ', '▆ ', '█ '\n",
    "\n",
    "categorical_reps_df = categorical_rep_mycode_df(data.iloc[:,-20:],data.columns, alphabet_size, alphabets)\n",
    "categorical_reps_df.head(3)"
   ]
  },
  {
   "cell_type": "markdown",
   "metadata": {},
   "source": [
    "## Find frequency of a few pre-defined interesting patterns of a single series (one single windfarm/ one cluster)"
   ]
  },
  {
   "cell_type": "code",
   "execution_count": null,
   "metadata": {},
   "outputs": [],
   "source": [
    "def plot_one_dataframe_in_several_axes(dataframe,total_plots,\n",
    "                                       n_rows = 5, figsize_r = 10, n_cols = 2 , figsize_c = 8, savefig=0):\n",
    "    \n",
    "    n_each_fig_plots = n_rows * n_cols\n",
    "\n",
    "    for p in range(int(-(-total_plots//n_each_fig_plots))):\n",
    "        fig, axar = plt.subplots(n_rows, n_cols,figsize=(figsize_c,figsize_r), dpi=100)\n",
    "        fig.subplots_adjust(hspace=0.25, wspace=0.15)        \n",
    "\n",
    "        ind = 0\n",
    "        for i in range(n_each_fig_plots*p,min(n_each_fig_plots*(p+1),total_plots)):\n",
    "\n",
    "            if n_cols ==1:\n",
    "                ax = axar[ind]\n",
    "            elif n_cols > 1:\n",
    "                r = ind // n_cols\n",
    "                c = ind % n_cols\n",
    "                ax = axar[r, c]    \n",
    "\n",
    "            this_df = dataframe.iloc[:,i]\n",
    "            ax = this_df.plot(kind='bar', ax = ax)\n",
    "            ax.text(0,0.85,data_here.columns[i], fontsize=10, bbox=dict(boxstyle=\"round\", \n",
    "                       ec='gray',\n",
    "                       fc='w',\n",
    "                       ))\n",
    "\n",
    "            ax.tick_params(axis='x', labelsize = 8, which='major', pad=0, rotation=90 , color = 'w')\n",
    "            ax.tick_params(axis='y', labelsize = 8, which='major', pad=0, rotation=0 , color = 'k')\n",
    "            # ax.set_title(data_here.columns[i], fontsize=9)\n",
    "            ax.set_xticklabels(dataframe.index, color = 'w')\n",
    "            ax.set_ylim(bottom=0, top = 1)\n",
    "            if c == 0:\n",
    "                ax.set_ylabel('Probability of the pattern',fontsize=9)\n",
    "            if r == n_rows-1:\n",
    "                ax.set_xlabel('Patterns',fontsize=11)\n",
    "                ax.set_xticklabels(motifs, color = 'k')\n",
    "\n",
    "            if savefig:\n",
    "                fig.savefig(Title+str(p)+'.jpg', papertype='letter', dpi = 300, bbox_inches='tight')    \n",
    "\n",
    "            ind = ind + 1\n",
    "            #plt.close()"
   ]
  },
  {
   "cell_type": "code",
   "execution_count": null,
   "metadata": {},
   "outputs": [],
   "source": [
    "candidate_motifs = [alphabets[-1] * i for i in range(2,13)]\n",
    "print(\"Number of desired motifs =\", len(candidate_motifs))\n",
    "print(candidate_motifs)"
   ]
  },
  {
   "cell_type": "code",
   "execution_count": null,
   "metadata": {},
   "outputs": [],
   "source": [
    "data_here = categorical_reps_df \n",
    "\n",
    "values = []\n",
    "tick_labels = []\n",
    "legends = []\n",
    "for i in range(data_here.shape[1]):\n",
    "    one_time_series = data_here.iloc[:,i].str.cat(sep='')\n",
    "    motifs_freqs = find_most_freq_motifs2(one_time_series, candidate_motifs, 10, method='re_findall')\n",
    "    legend = data_here.columns[i]\n",
    "    freqs = [x[1] for x in motifs_freqs]\n",
    "    motifs = [x[0] for x in motifs_freqs]\n",
    "    values.append(freqs)\n",
    "    tick_labels.append(motifs)\n",
    "    legends.append(legend)\n",
    "    \n",
    "values = np.array(values)/ (data_here.shape[0]) #* 100\n",
    "values = values.transpose()\n",
    "motifs_freqs_df = pd.DataFrame.from_dict(values)\n",
    "motifs_freqs_df.columns = data_here.columns\n",
    "motifs_freqs_df.index= motifs\n",
    "motifs_freqs_df"
   ]
  },
  {
   "cell_type": "code",
   "execution_count": null,
   "metadata": {},
   "outputs": [],
   "source": [
    "a = leg.get_frame()\n",
    "a.set"
   ]
  },
  {
   "cell_type": "code",
   "execution_count": null,
   "metadata": {},
   "outputs": [],
   "source": [
    "data_here = motifs_freqs_df # should be a fvDF\n",
    "\n",
    "total_plots = 6\n",
    "no_rows = 3 ; figsize_row = 6\n",
    "no_cols = 2 ; figsize_col = 8\n",
    "Title = 'Probabilty_of_consequent_high_power_generation'\n",
    "savefig = 1\n",
    "\n",
    "plot_one_dataframe_in_several_axes(data_here,total_plots,\n",
    "                                   n_rows = no_rows, figsize_r = figsize_row, n_cols = no_cols, figsize_c = figsize_col, \n",
    "                                   savefig = savefig)"
   ]
  },
  {
   "cell_type": "code",
   "execution_count": null,
   "metadata": {},
   "outputs": [],
   "source": [
    "def plot_hbar_v1(values, tick_labels, legends, ylabel='Patterns', xlabel=\"Frequency of Patterns\",\n",
    "                 total_plots=20, n_rows=5, figsize_r=10, n_cols=2, figsize_c=8, savefig=0):\n",
    "    n_plots = n_rows * n_cols\n",
    "    method = 're_findall' #re_findall  OR count\n",
    "    lenght_time_period = 4\n",
    "    Title = 'Most frequent patterns in {} consecutive hours '.format(lenght_time_period)\n",
    "\n",
    "    for p in range(int(-(-total_plots//n_plots))):\n",
    "        fig, axar = plt.subplots(n_rows, n_cols,figsize=(figsize_c,figsize_r), dpi=100)\n",
    "        fig.subplots_adjust(hspace=0.15, wspace=0.12*lenght_time_period)        \n",
    "\n",
    "        ind = 0\n",
    "        for i in range(n_plots*p,min(n_plots*(p+1),total_plots)):\n",
    "            r = ind // n_cols\n",
    "            c = ind % n_cols\n",
    "\n",
    "            ax = axar[r, c]    \n",
    "            ax.barh(range(len(values[i])), values[i], color='g', alpha=0.95)\n",
    "            ax.legend([legends[i]],loc='best', fontsize = 9)\n",
    "            ax.set_yticks(range(len(motifs)))\n",
    "            ax.set_yticklabels(motifs, fontsize=8) # fontname='Arial'\n",
    "            ax.tick_params(axis='x', labelsize = 8, which='major', pad=0, color = 'k')\n",
    "            ax.tick_params(axis='y', labelsize = 9, which='major', pad=-1, color = 'w')\n",
    "\n",
    "            if c == 0:\n",
    "                ax.set_ylabel(ylabel,fontsize=9)\n",
    "            if r == n_rows-1:\n",
    "                ax.set_xlabel(xlabel,fontsize=11)\n",
    "\n",
    "            # Pad margins so that markers don't get clipped by the axes\n",
    "            ax.margins(0.05)\n",
    "            \n",
    "            if savefig:\n",
    "                fig.savefig(Title+str(p)+'.jpg', papertype='letter', dpi = 300, bbox_inches='tight')    \n",
    "                \n",
    "            ind = ind + 1"
   ]
  },
  {
   "cell_type": "code",
   "execution_count": null,
   "metadata": {},
   "outputs": [],
   "source": [
    "# this is the same plot as above, however I don't like it\n",
    "plot_hbar_v1(values.transpose(), tick_labels, legends, total_plots=6, n_rows=3, figsize_r=6, n_cols=2, figsize_c=8, savefig=1)"
   ]
  }
 ],
 "metadata": {
  "kernelspec": {
   "display_name": "Python 3",
   "language": "python",
   "name": "python3"
  },
  "language_info": {
   "codemirror_mode": {
    "name": "ipython",
    "version": 3
   },
   "file_extension": ".py",
   "mimetype": "text/x-python",
   "name": "python",
   "nbconvert_exporter": "python",
   "pygments_lexer": "ipython3",
   "version": "3.6.5"
  }
 },
 "nbformat": 4,
 "nbformat_minor": 2
}
