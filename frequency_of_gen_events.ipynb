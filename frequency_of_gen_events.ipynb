{
 "cells": [
  {
   "cell_type": "code",
   "execution_count": 1,
   "metadata": {},
   "outputs": [],
   "source": [
    "from utils import *\n",
    "from matplotlib import rcParams\n",
    "rcParams['font.family'] = 'sans-serif'\n",
    "rcParams['font.sans-serif'] = ['Segoe UI Symbol','simHei','Arial','sans-serif']"
   ]
  },
  {
   "cell_type": "markdown",
   "metadata": {},
   "source": [
    "## Load Data"
   ]
  },
  {
   "cell_type": "code",
   "execution_count": 4,
   "metadata": {},
   "outputs": [
    {
     "name": "stdout",
     "output_type": "stream",
     "text": [
      "year:2015\t(105120, 20)\n",
      "year:2016\t(105408, 20)\n",
      "year:2017\t(105120, 20)\n",
      "resampled to  (26304, 20)\n"
     ]
    }
   ],
   "source": [
    "years = [2015,2016,2017]\n",
    "resampling_period = '1h'  # 60 minutes\n",
    "\n",
    "original_data = load_resample_data(years, resampling_period)\n",
    "windfarms_names = original_data.columns.tolist()    "
   ]
  },
  {
   "cell_type": "markdown",
   "metadata": {},
   "source": [
    "### Normalize data = Capacity Factor (optional) "
   ]
  },
  {
   "cell_type": "code",
   "execution_count": 40,
   "metadata": {},
   "outputs": [
    {
     "data": {
      "text/html": [
       "<div>\n",
       "<style scoped>\n",
       "    .dataframe tbody tr th:only-of-type {\n",
       "        vertical-align: middle;\n",
       "    }\n",
       "\n",
       "    .dataframe tbody tr th {\n",
       "        vertical-align: top;\n",
       "    }\n",
       "\n",
       "    .dataframe thead th {\n",
       "        text-align: right;\n",
       "    }\n",
       "</style>\n",
       "<table border=\"1\" class=\"dataframe\">\n",
       "  <thead>\n",
       "    <tr style=\"text-align: right;\">\n",
       "      <th></th>\n",
       "      <th>AKE1</th>\n",
       "      <th>ARD1</th>\n",
       "      <th>BSR1</th>\n",
       "      <th>BTR1</th>\n",
       "      <th>BUL1</th>\n",
       "      <th>BUL2</th>\n",
       "      <th>CR1</th>\n",
       "      <th>CRE3</th>\n",
       "      <th>CRR1</th>\n",
       "      <th>GWW1</th>\n",
       "      <th>...</th>\n",
       "      <th>IEW1</th>\n",
       "      <th>IEW2</th>\n",
       "      <th>KHW1</th>\n",
       "      <th>NEP1</th>\n",
       "      <th>OWF1</th>\n",
       "      <th>SCR2</th>\n",
       "      <th>SCR3</th>\n",
       "      <th>SCR4</th>\n",
       "      <th>TAB1</th>\n",
       "      <th>Total</th>\n",
       "    </tr>\n",
       "    <tr>\n",
       "      <th>DT</th>\n",
       "      <th></th>\n",
       "      <th></th>\n",
       "      <th></th>\n",
       "      <th></th>\n",
       "      <th></th>\n",
       "      <th></th>\n",
       "      <th></th>\n",
       "      <th></th>\n",
       "      <th></th>\n",
       "      <th></th>\n",
       "      <th></th>\n",
       "      <th></th>\n",
       "      <th></th>\n",
       "      <th></th>\n",
       "      <th></th>\n",
       "      <th></th>\n",
       "      <th></th>\n",
       "      <th></th>\n",
       "      <th></th>\n",
       "      <th></th>\n",
       "      <th></th>\n",
       "    </tr>\n",
       "  </thead>\n",
       "  <tbody>\n",
       "    <tr>\n",
       "      <th>2015-01-01 00:00:00</th>\n",
       "      <td>0.57</td>\n",
       "      <td>0.64</td>\n",
       "      <td>0.42</td>\n",
       "      <td>0.24</td>\n",
       "      <td>nan</td>\n",
       "      <td>nan</td>\n",
       "      <td>0.93</td>\n",
       "      <td>0.61</td>\n",
       "      <td>0.72</td>\n",
       "      <td>0.88</td>\n",
       "      <td>...</td>\n",
       "      <td>0.76</td>\n",
       "      <td>0.55</td>\n",
       "      <td>0.97</td>\n",
       "      <td>0.86</td>\n",
       "      <td>0.56</td>\n",
       "      <td>0.65</td>\n",
       "      <td>0.38</td>\n",
       "      <td>0.79</td>\n",
       "      <td>0.34</td>\n",
       "      <td>0.61</td>\n",
       "    </tr>\n",
       "    <tr>\n",
       "      <th>2015-01-01 01:00:00</th>\n",
       "      <td>0.76</td>\n",
       "      <td>0.83</td>\n",
       "      <td>0.44</td>\n",
       "      <td>0.56</td>\n",
       "      <td>nan</td>\n",
       "      <td>nan</td>\n",
       "      <td>0.95</td>\n",
       "      <td>0.63</td>\n",
       "      <td>0.68</td>\n",
       "      <td>0.79</td>\n",
       "      <td>...</td>\n",
       "      <td>0.96</td>\n",
       "      <td>0.68</td>\n",
       "      <td>0.75</td>\n",
       "      <td>0.87</td>\n",
       "      <td>0.72</td>\n",
       "      <td>0.38</td>\n",
       "      <td>0.29</td>\n",
       "      <td>0.81</td>\n",
       "      <td>0.25</td>\n",
       "      <td>0.65</td>\n",
       "    </tr>\n",
       "    <tr>\n",
       "      <th>2015-01-01 02:00:00</th>\n",
       "      <td>0.82</td>\n",
       "      <td>0.70</td>\n",
       "      <td>0.34</td>\n",
       "      <td>0.71</td>\n",
       "      <td>nan</td>\n",
       "      <td>nan</td>\n",
       "      <td>0.91</td>\n",
       "      <td>0.63</td>\n",
       "      <td>0.52</td>\n",
       "      <td>0.66</td>\n",
       "      <td>...</td>\n",
       "      <td>0.97</td>\n",
       "      <td>0.53</td>\n",
       "      <td>0.55</td>\n",
       "      <td>0.67</td>\n",
       "      <td>0.70</td>\n",
       "      <td>0.50</td>\n",
       "      <td>0.27</td>\n",
       "      <td>0.70</td>\n",
       "      <td>0.18</td>\n",
       "      <td>0.58</td>\n",
       "    </tr>\n",
       "  </tbody>\n",
       "</table>\n",
       "<p>3 rows × 21 columns</p>\n",
       "</div>"
      ],
      "text/plain": [
       "                     AKE1  ARD1  BSR1  BTR1  BUL1  BUL2  CR1  CRE3  CRR1  \\\n",
       "DT                                                                         \n",
       "2015-01-01 00:00:00  0.57  0.64  0.42  0.24   nan   nan 0.93  0.61  0.72   \n",
       "2015-01-01 01:00:00  0.76  0.83  0.44  0.56   nan   nan 0.95  0.63  0.68   \n",
       "2015-01-01 02:00:00  0.82  0.70  0.34  0.71   nan   nan 0.91  0.63  0.52   \n",
       "\n",
       "                     GWW1  ...    IEW1  IEW2  KHW1  NEP1  OWF1  SCR2  SCR3  \\\n",
       "DT                         ...                                               \n",
       "2015-01-01 00:00:00  0.88  ...    0.76  0.55  0.97  0.86  0.56  0.65  0.38   \n",
       "2015-01-01 01:00:00  0.79  ...    0.96  0.68  0.75  0.87  0.72  0.38  0.29   \n",
       "2015-01-01 02:00:00  0.66  ...    0.97  0.53  0.55  0.67  0.70  0.50  0.27   \n",
       "\n",
       "                     SCR4  TAB1  Total  \n",
       "DT                                      \n",
       "2015-01-01 00:00:00  0.79  0.34   0.61  \n",
       "2015-01-01 01:00:00  0.81  0.25   0.65  \n",
       "2015-01-01 02:00:00  0.70  0.18   0.58  \n",
       "\n",
       "[3 rows x 21 columns]"
      ]
     },
     "execution_count": 40,
     "metadata": {},
     "output_type": "execute_result"
    }
   ],
   "source": [
    "windfarms = pd.read_excel('NRGstreamData/WindFarms.xlsx').sort_values(by='Asset ID').reset_index(drop = True)\n",
    "normalized_data = original_data / windfarms['Capacity'].values\n",
    "\n",
    "sum_capacities_each_row = np.array(~original_data.isnull().values * windfarms['Capacity'].values).sum(axis=1)\n",
    "normalized_data['Total'] = original_data.sum(axis=1)/ sum_capacities_each_row\n",
    "\n",
    "normalized_data.head(3)"
   ]
  },
  {
   "cell_type": "markdown",
   "metadata": {},
   "source": [
    "### Clustering (optional)"
   ]
  },
  {
   "cell_type": "code",
   "execution_count": 41,
   "metadata": {},
   "outputs": [],
   "source": [
    "# from sklearn.cluster import KMeans\n",
    "n_clusters = 5\n",
    "# kmin = KMeans(n_clusters)\n",
    "# X = np.transpose(normalized_data.iloc[:,:])\n",
    "# Y = kmin.fit(X)\n",
    "# clusters = kmin.labels_\n",
    "# clusters\n",
    "\n",
    "clusters = np.array([1, 1, 2, 1, 4, 4, 0, 0, 0, 1, 3, 0, 0, 0, 3, 0, 1, 2, 3, 2])\n",
    "\n",
    "a = {}\n",
    "for c in range(n_clusters):\n",
    "    ind = clusters == c # OR: ind = np.where(clusters==c)[0] --> this generate an np.array of only indices\n",
    "    # a[c] = (normalized_data.iloc[:,ind]).mean(axis=1) : old version\n",
    "    a[c] = (original_data.iloc[:,ind]).sum(axis=1) / (windfarms['Capacity'].iloc[ind].sum())\n",
    "    \n",
    "\n",
    "clustered_data = pd.DataFrame.from_dict(a)\n",
    "clustered_data.columns = ['Cluster {:d}'.format(d) for d in range(1,n_clusters+1)] \n",
    "\n",
    "clustered_data['Total'] = normalized_data['Total']"
   ]
  },
  {
   "cell_type": "markdown",
   "metadata": {},
   "source": [
    "### Decide what data to use for further analysis (Original data | Normalized data | clustered_data)"
   ]
  },
  {
   "cell_type": "code",
   "execution_count": 42,
   "metadata": {},
   "outputs": [
    {
     "data": {
      "text/html": [
       "<div>\n",
       "<style scoped>\n",
       "    .dataframe tbody tr th:only-of-type {\n",
       "        vertical-align: middle;\n",
       "    }\n",
       "\n",
       "    .dataframe tbody tr th {\n",
       "        vertical-align: top;\n",
       "    }\n",
       "\n",
       "    .dataframe thead th {\n",
       "        text-align: right;\n",
       "    }\n",
       "</style>\n",
       "<table border=\"1\" class=\"dataframe\">\n",
       "  <thead>\n",
       "    <tr style=\"text-align: right;\">\n",
       "      <th></th>\n",
       "      <th>Cluster 1</th>\n",
       "      <th>Cluster 2</th>\n",
       "      <th>Cluster 3</th>\n",
       "      <th>Cluster 4</th>\n",
       "      <th>Cluster 5</th>\n",
       "      <th>Total</th>\n",
       "    </tr>\n",
       "    <tr>\n",
       "      <th>DT</th>\n",
       "      <th></th>\n",
       "      <th></th>\n",
       "      <th></th>\n",
       "      <th></th>\n",
       "      <th></th>\n",
       "      <th></th>\n",
       "    </tr>\n",
       "  </thead>\n",
       "  <tbody>\n",
       "    <tr>\n",
       "      <th>2015-01-01 00:00:00</th>\n",
       "      <td>0.73</td>\n",
       "      <td>0.60</td>\n",
       "      <td>0.40</td>\n",
       "      <td>0.72</td>\n",
       "      <td>0.00</td>\n",
       "      <td>0.61</td>\n",
       "    </tr>\n",
       "    <tr>\n",
       "      <th>2015-01-01 01:00:00</th>\n",
       "      <td>0.77</td>\n",
       "      <td>0.70</td>\n",
       "      <td>0.39</td>\n",
       "      <td>0.79</td>\n",
       "      <td>0.00</td>\n",
       "      <td>0.65</td>\n",
       "    </tr>\n",
       "    <tr>\n",
       "      <th>2015-01-01 02:00:00</th>\n",
       "      <td>0.67</td>\n",
       "      <td>0.70</td>\n",
       "      <td>0.30</td>\n",
       "      <td>0.70</td>\n",
       "      <td>0.00</td>\n",
       "      <td>0.58</td>\n",
       "    </tr>\n",
       "    <tr>\n",
       "      <th>2015-01-01 03:00:00</th>\n",
       "      <td>0.71</td>\n",
       "      <td>0.72</td>\n",
       "      <td>0.24</td>\n",
       "      <td>0.53</td>\n",
       "      <td>0.00</td>\n",
       "      <td>0.54</td>\n",
       "    </tr>\n",
       "    <tr>\n",
       "      <th>2015-01-01 04:00:00</th>\n",
       "      <td>0.68</td>\n",
       "      <td>0.82</td>\n",
       "      <td>0.32</td>\n",
       "      <td>0.55</td>\n",
       "      <td>0.00</td>\n",
       "      <td>0.58</td>\n",
       "    </tr>\n",
       "  </tbody>\n",
       "</table>\n",
       "</div>"
      ],
      "text/plain": [
       "                     Cluster 1  Cluster 2  Cluster 3  Cluster 4  Cluster 5  \\\n",
       "DT                                                                           \n",
       "2015-01-01 00:00:00       0.73       0.60       0.40       0.72       0.00   \n",
       "2015-01-01 01:00:00       0.77       0.70       0.39       0.79       0.00   \n",
       "2015-01-01 02:00:00       0.67       0.70       0.30       0.70       0.00   \n",
       "2015-01-01 03:00:00       0.71       0.72       0.24       0.53       0.00   \n",
       "2015-01-01 04:00:00       0.68       0.82       0.32       0.55       0.00   \n",
       "\n",
       "                     Total  \n",
       "DT                          \n",
       "2015-01-01 00:00:00   0.61  \n",
       "2015-01-01 01:00:00   0.65  \n",
       "2015-01-01 02:00:00   0.58  \n",
       "2015-01-01 03:00:00   0.54  \n",
       "2015-01-01 04:00:00   0.58  "
      ]
     },
     "execution_count": 42,
     "metadata": {},
     "output_type": "execute_result"
    }
   ],
   "source": [
    "# #### Be catious !\n",
    "data = clustered_data  # Normalized_data  | Original_data\n",
    "data.head()"
   ]
  },
  {
   "cell_type": "code",
   "execution_count": 43,
   "metadata": {},
   "outputs": [],
   "source": [
    "CF_total = data['Total'].values * 100"
   ]
  },
  {
   "cell_type": "code",
   "execution_count": 44,
   "metadata": {},
   "outputs": [],
   "source": [
    "def comp_prob_matrix_rapid_change(array, time_windows = [2,3], delta_CFs = [5, 10]):\n",
    "    prob_mat = np.zeros((len(time_windows),len(delta_CFs)))\n",
    "    \n",
    "    for i,time_window in enumerate(time_windows):\n",
    "        print(i)\n",
    "        a = abs(np.diff(array, time_window))\n",
    "        \n",
    "        for j,delta_CF in enumerate(delta_CFs):\n",
    "            n_happened = sum(a > delta_CF) \n",
    "            p = n_happened / len(a)\n",
    "            \n",
    "            prob_mat[i,j] = p\n",
    "        \n",
    "    return prob_mat"
   ]
  },
  {
   "cell_type": "code",
   "execution_count": 109,
   "metadata": {},
   "outputs": [
    {
     "name": "stdout",
     "output_type": "stream",
     "text": [
      "0\n",
      "1\n",
      "2\n",
      "3\n",
      "4\n",
      "5\n",
      "6\n",
      "7\n",
      "8\n",
      "9\n",
      "10\n",
      "11\n",
      "12\n",
      "13\n",
      "14\n",
      "15\n",
      "16\n",
      "17\n",
      "18\n"
     ]
    }
   ],
   "source": [
    "time_windows = np.arange(2,20+1)\n",
    "delta_CFs = np.arange(5,51,0.5)\n",
    "prob_matrix_rapid_change=comp_prob_matrix_rapid_change(CF_total, time_windows = time_windows, delta_CFs = delta_CFs)"
   ]
  },
  {
   "cell_type": "code",
   "execution_count": 110,
   "metadata": {},
   "outputs": [
    {
     "data": {
      "text/plain": [
       "(19, 92)"
      ]
     },
     "execution_count": 110,
     "metadata": {},
     "output_type": "execute_result"
    }
   ],
   "source": [
    "prob_matrix_rapid_change.shape"
   ]
  },
  {
   "cell_type": "code",
   "execution_count": 111,
   "metadata": {},
   "outputs": [
    {
     "data": {
      "image/png": "[encoded data removed]",
      "text/plain": [
       "<Figure size 550x440 with 2 Axes>"
      ]
     },
     "metadata": {},
     "output_type": "display_data"
    }
   ],
   "source": [
    "data_here = prob_matrix_rapid_change\n",
    "d1 = data_here.shape[0]\n",
    "d2 = data_here.shape[1]\n",
    "x_leg = 2\n",
    "y_leg = 5\n",
    "\n",
    "fig, ax = plt.subplots(figsize=(5,4),dpi=110)\n",
    "cax = ax.imshow(prob_matrix_rapid_change.transpose(), aspect='auto', cmap='YlGnBu') #norm=matplotlib.colors.LogNorm()\n",
    "\n",
    "ax.set_xticks(np.arange(0, d1,x_leg))\n",
    "ax.set_xticklabels(time_windows[0::x_leg])\n",
    "\n",
    "y_ticks_positions = np.arange(0, d2, y_leg)\n",
    "# y_ticks_positions[-1] = y_ticks_positions[-1] + 1\n",
    "ax.set_yticks(y_ticks_positions) #[-0.5,  4.5,  9.5, 14.5, 19.5, 24.5, 30.5]\n",
    "ax.set_yticklabels(delta_CFs[0::y_leg])\n",
    "\n",
    "# ax.spines['left'].set_position(('data', 0.0))\n",
    "\n",
    "# Add colorbar, make sure to specify tick locations to match desired ticklabels\n",
    "cbar = fig.colorbar(cax)\n",
    "# cbar.ax.set_yticklabels(['< -1', '0', '> 1'])  # vertically oriented colorbar\n",
    "\n",
    "ax.set_xlabel('Time window (hours)')\n",
    "ax.set_ylabel('$\\Delta$ CF')\n",
    "\n",
    "fig.tight_layout()\n",
    "# fig.savefig('persistence_of_rapid_change_imageshow.jpg', papertype='letter', dpi = 300, bbox_inches='tight')    "
   ]
  },
  {
   "cell_type": "code",
   "execution_count": 83,
   "metadata": {},
   "outputs": [],
   "source": [
    "def comp_prob_matrix_persistent_gen(CF_total, kind='low', CFs= None, period = np.arange(2, 24*5) ):\n",
    "    \"\"\"\n",
    "    This function computes the probability of for how many consecutive hours the CF is below (low) or above(high) a threshold\n",
    "    \"\"\"\n",
    "    if CFs is None:\n",
    "        if kind=='low':\n",
    "            CFs = np.arange(35,0,-1)\n",
    "        else:\n",
    "            CFs = np.arange(100,65,-0.2)\n",
    "            \n",
    "    # print(CFs)\n",
    "    counts_mat = []\n",
    "    for cf in CFs:\n",
    "        if kind == 'low':\n",
    "            c = ''.join(np.where(CF_total <= cf  , \"T\", \"F\"))\n",
    "        else:\n",
    "            c = ''.join(np.where(CF_total >= cf  , \"T\", \"F\"))\n",
    "            \n",
    "        counts = [len(re.findall('(?='+'T'*j+')',c)) for j in period]\n",
    "        # events = [len(re.findall('T'*j + '+',c)) for j in range(1,period+1)] # it counts number of non-overlapping events\n",
    "        counts_mat.append(counts)\n",
    "\n",
    "    prob_matrix = np.array(counts_mat) / (CF_total.shape[0]) # len(years)\n",
    "    return prob_matrix"
   ]
  },
  {
   "cell_type": "code",
   "execution_count": 98,
   "metadata": {},
   "outputs": [],
   "source": [
    "period = np.arange(2,24*2 + 1)\n",
    "CFs = np.around(np.arange(30,4,-1),2)  ; kind = 'low'\n",
    "CFs = np.around(np.arange(90,64,-1),2); kind = 'high'\n",
    "\n",
    "prob_matrix = comp_prob_matrix_persistent_gen(CF_total, kind=kind, CFs=CFs, period=period)"
   ]
  },
  {
   "cell_type": "code",
   "execution_count": 108,
   "metadata": {},
   "outputs": [
    {
     "data": {
      "image/png": "[encoded data removed]",
      "text/plain": [
       "<Figure size 550x440 with 2 Axes>"
      ]
     },
     "metadata": {},
     "output_type": "display_data"
    }
   ],
   "source": [
    "data_here = prob_matrix\n",
    "d1 = data_here.shape[0]\n",
    "d2 = data_here.shape[1]\n",
    "x_lag = 6\n",
    "y_leg = 5\n",
    "\n",
    "fig, ax = plt.subplots(figsize=(5,4),dpi=110)\n",
    "cax = ax.imshow(data_here, aspect='auto', cmap='YlGnBu') #norm=matplotlib.colors.LogNorm()\n",
    "\n",
    "ax.set_xticks(np.arange(+.5, d2, x_lag))\n",
    "ax.set_xticklabels(period[0::x_lag])\n",
    "\n",
    "y_ticks_positions = np.arange(0, d1, y_leg)\n",
    "# y_ticks_positions[-1] = y_ticks_positions[-1] + 1\n",
    "ax.set_yticks(y_ticks_positions) #[-0.5,  4.5,  9.5, 14.5, 19.5, 24.5, 30.5]\n",
    "ax.set_yticklabels(CFs[::y_leg])\n",
    "\n",
    "# ax.spines['left'].set_position(('data', 0.0))\n",
    "\n",
    "# Add colorbar, make sure to specify tick locations to match desired ticklabels\n",
    "cbar = fig.colorbar(cax) #ticks=[0, .1, 0.2, 0.3, 0.4]\n",
    "# cbar.ax.set_yticklabels(['< -1', '0', '> 1'])  # vertically oriented colorbar\n",
    "\n",
    "ax.set_xlabel('Persistance time (hr)')\n",
    "ax.set_ylabel('CF threshold')\n",
    "\n",
    "fig.tight_layout()\n",
    "fig.savefig('persistence_of_{}_genertation_imageshow.jpg'.format(kind), papertype='letter', dpi = 300, bbox_inches='tight')    "
   ]
  },
  {
   "cell_type": "code",
   "execution_count": 107,
   "metadata": {},
   "outputs": [
    {
     "data": {
      "image/png": "[encoded data removed]",
      "text/plain": [
       "<Figure size 550x500 with 1 Axes>"
      ]
     },
     "metadata": {},
     "output_type": "display_data"
    }
   ],
   "source": [
    "CFs_short = np.array([30,20,10]); kind = 'low'\n",
    "CFs_short = np.array([70,80,90]); kind = 'high'\n",
    "\n",
    "prob_matrix_short = comp_prob_matrix_persistent_gen(CF_total, kind=kind, CFs=CFs_short, period=period)\n",
    "data_here = prob_matrix_short\n",
    "\n",
    "fig, ax = plt.subplots(figsize=(5.5,5),dpi = 100)\n",
    "\n",
    "d1 = data_here.shape[0]\n",
    "d2 = data_here.shape[1]\n",
    "x_leg = 12\n",
    "y_leg = 5\n",
    "\n",
    "# ax.set_xmargin(0)\n",
    "ax.set_ymargin(0)\n",
    "\n",
    "ax.set_xticks(np.arange(0, d2, x_leg))\n",
    "ax.set_xticklabels(period[0::x_leg])\n",
    "\n",
    "# ax.set_yticks(np.arange(-0.5, d1, CF_leg))\n",
    "# ax.set_yticklabels(CFs[0::CF_leg])\n",
    "\n",
    "ax.tick_params(axis='x', labelsize = 10, which='both', pad=0, rotation=0 , color = 'w')\n",
    "ax.tick_params(axis='y', labelsize = 9, which='both', pad=0, rotation=0 , color = 'k')\n",
    "\n",
    "ax.spines['top'].set_visible(False)\n",
    "ax.spines['right'].set_visible(False)\n",
    "\n",
    "ax.grid(color='k', linestyle='-.', linewidth=0.4, alpha = 0.4, which = 'both')\n",
    "\n",
    "ax.set_xlabel('Persistance time (hr)',fontsize=12)\n",
    "ax.set_ylabel(' Probability ', fontsize=12)\n",
    "\n",
    "for i,cf in enumerate(CFs_short):\n",
    "    ax.plot(data_here[i,:], label = \"CF >= {}\".format(cf))\n",
    "\n",
    "# ax.spines['bottom'].set_position('zero')\n",
    "ax.set_ylim(0,0.15)\n",
    "\n",
    "ax.legend()\n",
    "plt.show()\n",
    "\n",
    "fig.tight_layout()\n",
    "fig.savefig('persistence_of_{}_genertation_curves.jpg'.format(kind), papertype='letter', dpi = 300, bbox_inches='tight')    "
   ]
  },
  {
   "cell_type": "code",
   "execution_count": null,
   "metadata": {},
   "outputs": [],
   "source": [
    "dx, dy = 0.15, 0.05\n",
    "\n",
    "# generate 2 2d grids for the x & y bounds\n",
    "y, x = np.mgrid[slice(-3, 3 + dy, dy),\n",
    "                slice(-3, 3 + dx, dx)]\n",
    "z = (1 - x / 2. + x ** 5 + y ** 3) * np.exp(-x ** 2 - y ** 2)\n",
    "# x and y are bounds, so z should be the value *inside* those bounds.\n",
    "# Therefore, remove the last value from the z array.\n",
    "z = z[:-1, :-1]\n",
    "z_min, z_max = -np.abs(z).max(), np.abs(z).max()\n",
    "\n",
    "fig, axs = plt.subplots(2, 2)\n",
    "\n",
    "ax = axs[0, 0]\n",
    "c = ax.pcolor(x, y, z, cmap='RdBu', vmin=z_min, vmax=z_max)\n",
    "ax.set_title('pcolor')\n",
    "# set the limits of the plot to the limits of the data\n",
    "ax.axis([x.min(), x.max(), y.min(), y.max()])\n",
    "fig.colorbar(c, ax=ax)\n",
    "\n",
    "ax = axs[0, 1]\n",
    "c = ax.pcolormesh(x, y, z, cmap='RdBu', vmin=z_min, vmax=z_max)\n",
    "ax.set_title('pcolormesh')\n",
    "# set the limits of the plot to the limits of the data\n",
    "ax.axis([x.min(), x.max(), y.min(), y.max()])\n",
    "fig.colorbar(c, ax=ax)\n",
    "\n",
    "ax = axs[1, 0]\n",
    "c = ax.imshow(z, cmap='RdBu', vmin=z_min, vmax=z_max,\n",
    "              extent=[x.min(), x.max(), y.min(), y.max()],\n",
    "              interpolation='nearest', origin='lower')\n",
    "ax.set_title('image (nearest)')\n",
    "fig.colorbar(c, ax=ax)\n",
    "\n",
    "ax = axs[1, 1]\n",
    "c = ax.pcolorfast(x, y, z, cmap='RdBu', vmin=z_min, vmax=z_max)\n",
    "ax.set_title('pcolorfast')\n",
    "fig.colorbar(c, ax=ax)\n",
    "\n",
    "fig.tight_layout()\n",
    "plt.show()\n"
   ]
  }
 ],
 "metadata": {
  "kernelspec": {
   "display_name": "Python 3",
   "language": "python",
   "name": "python3"
  },
  "language_info": {
   "codemirror_mode": {
    "name": "ipython",
    "version": 3
   },
   "file_extension": ".py",
   "mimetype": "text/x-python",
   "name": "python",
   "nbconvert_exporter": "python",
   "pygments_lexer": "ipython3",
   "version": "3.6.5"
  }
 },
 "nbformat": 4,
 "nbformat_minor": 2
}
